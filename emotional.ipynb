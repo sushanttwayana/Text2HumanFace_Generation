{
  "nbformat": 4,
  "nbformat_minor": 0,
  "metadata": {
    "colab": {
      "provenance": [],
      "authorship_tag": "ABX9TyNlSRHQVeA0MyPCQ/ikmvLi",
      "include_colab_link": true
    },
    "kernelspec": {
      "name": "python3",
      "display_name": "Python 3"
    },
    "language_info": {
      "name": "python"
    }
  },
  "cells": [
    {
      "cell_type": "markdown",
      "metadata": {
        "id": "view-in-github",
        "colab_type": "text"
      },
      "source": [
        "<a href=\"https://colab.research.google.com/github/sushanttwayana/Text2HumanFace_Generation/blob/main/emotional.ipynb\" target=\"_parent\"><img src=\"https://colab.research.google.com/assets/colab-badge.svg\" alt=\"Open In Colab\"/></a>"
      ]
    },
    {
      "cell_type": "code",
      "execution_count": null,
      "metadata": {
        "id": "iEDlLXRKxlVQ"
      },
      "outputs": [],
      "source": [
        "import h5py\n",
        "from tensorflow.keras.models import load_model\n",
        "\n",
        "# Load the model\n",
        "loaded_model = load_model('/content/model.h5')\n"
      ]
    },
    {
      "cell_type": "code",
      "source": [
        "loaded_model.summary()"
      ],
      "metadata": {
        "colab": {
          "base_uri": "https://localhost:8080/"
        },
        "id": "F6AyOK_zzCVw",
        "outputId": "592c4c55-c57d-43f7-933a-c5b7b68edada"
      },
      "execution_count": null,
      "outputs": [
        {
          "output_type": "stream",
          "name": "stdout",
          "text": [
            "Model: \"DCNN\"\n",
            "_________________________________________________________________\n",
            " Layer (type)                Output Shape              Param #   \n",
            "=================================================================\n",
            " conv2d_1 (Conv2D)           (None, 48, 48, 64)        1664      \n",
            "                                                                 \n",
            " batchnorm_1 (BatchNormaliz  (None, 48, 48, 64)        256       \n",
            " ation)                                                          \n",
            "                                                                 \n",
            " conv2d_2 (Conv2D)           (None, 48, 48, 64)        102464    \n",
            "                                                                 \n",
            " batchnorm_2 (BatchNormaliz  (None, 48, 48, 64)        256       \n",
            " ation)                                                          \n",
            "                                                                 \n",
            " maxpool2d_1 (MaxPooling2D)  (None, 24, 24, 64)        0         \n",
            "                                                                 \n",
            " dropout_1 (Dropout)         (None, 24, 24, 64)        0         \n",
            "                                                                 \n",
            " conv2d_3 (Conv2D)           (None, 24, 24, 128)       73856     \n",
            "                                                                 \n",
            " batchnorm_3 (BatchNormaliz  (None, 24, 24, 128)       512       \n",
            " ation)                                                          \n",
            "                                                                 \n",
            " conv2d_4 (Conv2D)           (None, 24, 24, 128)       147584    \n",
            "                                                                 \n",
            " batchnorm_4 (BatchNormaliz  (None, 24, 24, 128)       512       \n",
            " ation)                                                          \n",
            "                                                                 \n",
            " maxpool2d_2 (MaxPooling2D)  (None, 12, 12, 128)       0         \n",
            "                                                                 \n",
            " dropout_2 (Dropout)         (None, 12, 12, 128)       0         \n",
            "                                                                 \n",
            " conv2d_5 (Conv2D)           (None, 12, 12, 256)       295168    \n",
            "                                                                 \n",
            " batchnorm_5 (BatchNormaliz  (None, 12, 12, 256)       1024      \n",
            " ation)                                                          \n",
            "                                                                 \n",
            " conv2d_6 (Conv2D)           (None, 12, 12, 256)       590080    \n",
            "                                                                 \n",
            " batchnorm_6 (BatchNormaliz  (None, 12, 12, 256)       1024      \n",
            " ation)                                                          \n",
            "                                                                 \n",
            " maxpool2d_3 (MaxPooling2D)  (None, 6, 6, 256)         0         \n",
            "                                                                 \n",
            " dropout_3 (Dropout)         (None, 6, 6, 256)         0         \n",
            "                                                                 \n",
            " flatten (Flatten)           (None, 9216)              0         \n",
            "                                                                 \n",
            " dense_1 (Dense)             (None, 128)               1179776   \n",
            "                                                                 \n",
            " batchnorm_7 (BatchNormaliz  (None, 128)               512       \n",
            " ation)                                                          \n",
            "                                                                 \n",
            " dropout_4 (Dropout)         (None, 128)               0         \n",
            "                                                                 \n",
            " out_layer (Dense)           (None, 3)                 387       \n",
            "                                                                 \n",
            "=================================================================\n",
            "Total params: 2395075 (9.14 MB)\n",
            "Trainable params: 2393027 (9.13 MB)\n",
            "Non-trainable params: 2048 (8.00 KB)\n",
            "_________________________________________________________________\n"
          ]
        }
      ]
    },
    {
      "cell_type": "markdown",
      "source": [],
      "metadata": {
        "id": "qAbsryw_RPVq"
      }
    },
    {
      "cell_type": "code",
      "source": [
        "from PIL import Image\n",
        "\n",
        "# Load the image\n",
        "image_path = '/content/download.jpg'  # Replace with your image file path\n",
        "image = Image.open(image_path)\n"
      ],
      "metadata": {
        "id": "0LaDmL6EzoYK"
      },
      "execution_count": null,
      "outputs": []
    },
    {
      "cell_type": "code",
      "source": [
        "# Resize the image to 48x48\n",
        "resized_image = image.resize((48, 48))\n",
        "\n",
        "# Convert the resized image to numpy array (optional)\n",
        "import numpy as np\n",
        "resized_image_array = np.array(resized_image)\n"
      ],
      "metadata": {
        "id": "RccIbuOBzr7-"
      },
      "execution_count": null,
      "outputs": []
    },
    {
      "cell_type": "code",
      "source": [
        "resized_image_gray = resized_image.convert('L')"
      ],
      "metadata": {
        "id": "ZcMieUekz0Z3"
      },
      "execution_count": null,
      "outputs": []
    },
    {
      "cell_type": "code",
      "source": [],
      "metadata": {
        "id": "hohCp8aPFRlR"
      },
      "execution_count": null,
      "outputs": []
    },
    {
      "cell_type": "code",
      "source": [
        "import matplotlib.pyplot as plt\n",
        "\n",
        "# Display the grayscale image using matplotlib\n",
        "plt.imshow(resized_image_gray, cmap='gray')\n",
        "plt.axis('off')  # Hide axes for better visualization\n",
        "plt.show()"
      ],
      "metadata": {
        "colab": {
          "base_uri": "https://localhost:8080/",
          "height": 406
        },
        "id": "fPWKGxPFzuh-",
        "outputId": "f063212b-fade-441a-da87-58bfe70a064a"
      },
      "execution_count": null,
      "outputs": [
        {
          "output_type": "display_data",
          "data": {
            "text/plain": [
              "<Figure size 640x480 with 1 Axes>"
            ],
            "image/png": "[encoded data removed]"
          },
          "metadata": {}
        }
      ]
    },
    {
      "cell_type": "code",
      "source": [
        "# Convert the resized image to a format suitable for model input\n",
        "import tensorflow as tf\n",
        "resized_image_array = np.expand_dims(resized_image_gray, axis=0)  # Add batch dimension\n",
        "resized_image_array = np.expand_dims(resized_image_array, axis=-1)  # Add channels dimension (for grayscale)\n",
        "resized_image_array = resized_image_array.astype('float32') / 255.0  # Normalize pixel values\n",
        "\n"
      ],
      "metadata": {
        "id": "V6npnUfTzJan"
      },
      "execution_count": null,
      "outputs": []
    },
    {
      "cell_type": "code",
      "source": [
        "# prediction and true labels\n",
        "y_prob = loaded_model.predict(resized_image_array, batch_size=1, verbose=0)\n",
        "y_pred = [np.argmax(prob) for prob in y_prob]\n",
        "\n",
        "print(y_prob)\n",
        "print(y_pred)"
      ],
      "metadata": {
        "colab": {
          "base_uri": "https://localhost:8080/"
        },
        "id": "vI4-vHuM1ZTg",
        "outputId": "cfb0d407-68c6-42d8-b330-c914c97c21a3"
      },
      "execution_count": null,
      "outputs": [
        {
          "output_type": "stream",
          "name": "stdout",
          "text": [
            "[[0.14415847 0.5209984  0.33484307]]\n",
            "[1]\n"
          ]
        }
      ]
    },
    {
      "cell_type": "code",
      "source": [
        "mapper = {\n",
        "    0: \"happy\",\n",
        "    1: \"sad\",\n",
        "    2: \"neutral\",\n",
        "}\n",
        "\n",
        "emo     = [\"happy\", 'sad', 'neutral']\n",
        "\n",
        "# Using list comprehension to retrieve elements\n",
        "result = [emo[idx] for idx in y_pred]\n",
        "\n",
        "print(result)"
      ],
      "metadata": {
        "colab": {
          "base_uri": "https://localhost:8080/"
        },
        "id": "fHHRMZ2W2lo1",
        "outputId": "252a11f5-a1a8-47c9-9168-e33ca71e0b38"
      },
      "execution_count": null,
      "outputs": [
        {
          "output_type": "stream",
          "name": "stdout",
          "text": [
            "['sad']\n"
          ]
        }
      ]
    }
  ]
}